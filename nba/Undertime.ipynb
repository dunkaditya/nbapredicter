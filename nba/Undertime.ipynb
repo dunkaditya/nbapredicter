{
 "cells": [
  {
   "cell_type": "markdown",
   "id": "2e03f4cc",
   "metadata": {},
   "source": [
    "# Undertime "
   ]
  },
  {
   "cell_type": "markdown",
   "id": "e3c36ddd",
   "metadata": {},
   "source": [
    "Sports betting in basketball is incredibly difficult, with bias getting in the way of placing optimal bets. It seems impossible to get it right! That's where \"Undertime\" comes in!\n",
    "\n",
    "Undertime is a web app that will allow users to access to top-of-the-line ML software to help place their bets. We use a combination of ELO ratings and other advanced NBA statistics to create a Multi"
   ]
  },
  {
   "cell_type": "markdown",
   "id": "4825d752",
   "metadata": {},
   "source": [
    "## Calculating ELO Ratings"
   ]
  },
  {
   "cell_type": "markdown",
   "id": "b3bce16b",
   "metadata": {},
   "source": [
    "### Loading in our game data "
   ]
  },
  {
   "cell_type": "markdown",
   "id": "11a670c3",
   "metadata": {},
   "source": [
    "The dataset can be found here: https://www.kaggle.com/datasets/nathanlauga/nba-games/code?resource=download&select=teams.csv\n",
    "\n",
    "We take data that correlates to every game from the 2003 to the current season – indicating the winner, margin of victory and other important statistics for calculating ELO rating."
   ]
  },
  {
   "cell_type": "code",
   "execution_count": 2,
   "id": "d6403953",
   "metadata": {},
   "outputs": [],
   "source": [
    "import pandas as pd\n",
    "from tqdm import tqdm\n",
    "import autograd.numpy as np\n",
    "import matplotlib.pyplot as plt\n",
    "from autograd import grad, elementwise_grad\n",
    "\n",
    "dat_games = pd.read_csv(\"games.csv\",sep=\",\")\n",
    "dat_teams = pd.read_csv(\"teams.csv\",sep=\",\")"
   ]
  },
  {
   "cell_type": "markdown",
   "id": "d17afeda",
   "metadata": {},
   "source": [
    "### Processing ELO Data"
   ]
  },
  {
   "cell_type": "markdown",
   "id": "83233ff0",
   "metadata": {},
   "source": [
    "Foundation for the math behind calculating ELO can be found here: https://towardsdatascience.com/predicting-the-outcome-of-nba-games-with-machine-learning-a810bb768f20\n",
    "\n",
    "ELO is calculated as follows (all teams start with 1500 ELO): \n",
    "\n",
    "$$\n",
    "R_{i+1} = k * (S_{team} - E_{team}) + R_i\n",
    "$$\n",
    "\n",
    "where S_team is a state variable: 1 if the team wins, 0 if the team loses. E_team represents the expected win probability of the team, which is represented as:\n",
    "\n",
    "$$\n",
    "E_{team} = \\frac{1}{1+10^{\\frac{oppelo - teamelo}{400}}}\n",
    "$$\n",
    "\n",
    "and k is a moving constant relying on margin of vicory and difference in ELO ratings: \n",
    "\n",
    "$$\n",
    "k = 20\\frac{(MOV_{winner}+3)^{0.8}}{7.5+0.006(elo_{winner}-elo_{loser})}\n",
    "$$"
   ]
  },
  {
   "cell_type": "code",
   "execution_count": 3,
   "id": "d8997bc8",
   "metadata": {},
   "outputs": [],
   "source": [
    "# create object where team_id -> team_abbreviation\n",
    "teams = {}\n",
    "ids = dat_teams['TEAM_ID']\n",
    "abr = dat_teams['ABBREVIATION']\n",
    "for i in range(30):\n",
    "    teams[ids[i]] = abr[i]"
   ]
  },
  {
   "cell_type": "code",
   "execution_count": 6,
   "id": "5bdf7c1d",
   "metadata": {},
   "outputs": [],
   "source": [
    "# create ELO ratings where... team_id -> ELO, initialize to 1500\n",
    "ELO = {}\n",
    "for i in range(30): \n",
    "    ELO[abr[i]] = 1500\n",
    "    \n",
    "curr_season = 2003\n",
    "ELO_by_season = {}\n",
    "for i in range(30):\n",
    "    ELO_by_season[abr[i]] = []\n",
    "dat_games\n",
    "\n",
    "for i, game in dat_games.iterrows():\n",
    "    \n",
    "    hteam = teams[game['HOME_TEAM_ID'] ]\n",
    "    ateam = teams[game['VISITOR_TEAM_ID']] # away team\n",
    "    \n",
    "    # calculating S_team\n",
    "    hS = game['HOME_TEAM_WINS']\n",
    "    aS = 1 - hS\n",
    "    \n",
    "    # calculating expected value for each team\n",
    "    hE = 1/(1+np.power(10, (ELO[ateam] - ELO[hteam])/400))\n",
    "    aE = 1/(1+np.power(10, (ELO[hteam] - ELO[ateam])/400))\n",
    "    \n",
    "    # calculating k\n",
    "    MOV_winner = np.absolute(game['PTS_home'] - game['PTS_away'])\n",
    "    \n",
    "    ELO_diff_winner = 0\n",
    "    if(hS == 1):\n",
    "        ELO_diff_winner = ELO[hteam] - ELO[ateam]\n",
    "    else:\n",
    "        ELO_diff_winner = ELO[ateam] - ELO[hteam]\n",
    "        \n",
    "    k = 20 * np.power(MOV_winner + 3, 0.8) / (7.5 + 0.006*ELO_diff_winner) # k = 26.92\n",
    "\n",
    "    ELO[hteam] = k * (hS-hE)+ELO[hteam]\n",
    "    ELO[ateam] = k * (aS-aE)+ELO[ateam]\n",
    "    \n",
    "    # if season is switching\n",
    "    if curr_season != game['SEASON']:\n",
    "        for i, team in enumerate(abr):\n",
    "            ELO_by_season[team].append(ELO[team])\n",
    "            ELO[team] = ELO[team]*0.75 + 1505*0.25\n",
    "        curr_season = game['SEASON']\n",
    "    \n",
    "# for current season\n",
    "for i, team in enumerate(abr):\n",
    "    ELO_by_season[team].append(ELO[team])"
   ]
  },
  {
   "cell_type": "code",
   "execution_count": 7,
   "id": "1e94ee3a",
   "metadata": {},
   "outputs": [],
   "source": [
    "data = []\n",
    "for i, team in enumerate(ELO_by_season):\n",
    "    x = [team] + ELO_by_season[team]\n",
    "    data.append(x)\n",
    "cols = ['Team']\n",
    "for i in range(len(ELO_by_season[\"GSW\"])):\n",
    "    cols.append(2003+i)\n",
    "ELO_df = pd.DataFrame(data, columns = cols)"
   ]
  },
  {
   "cell_type": "code",
   "execution_count": 8,
   "id": "e172daab",
   "metadata": {},
   "outputs": [
    {
     "data": {
      "text/html": [
       "<a download=\"data.csv\" href=\"data:text/csv;base64,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\" target=\"_blank\">Download CSV file</a>"
      ],
      "text/plain": [
       "<IPython.core.display.HTML object>"
      ]
     },
     "execution_count": 8,
     "metadata": {},
     "output_type": "execute_result"
    }
   ],
   "source": [
    "import base64\n",
    "import pandas as pd\n",
    "from IPython.display import HTML\n",
    "\n",
    "def create_download_link( df, title = \"Download CSV file\", filename = \"data.csv\"):\n",
    "    csv = df.to_csv()\n",
    "    b64 = base64.b64encode(csv.encode())\n",
    "    payload = b64.decode()\n",
    "    html = '<a download=\"{filename}\" href=\"data:text/csv;base64,{payload}\" target=\"_blank\">{title}</a>'\n",
    "    html = html.format(payload=payload,title=title,filename=filename)\n",
    "    return HTML(html)\n",
    "\n",
    "create_download_link(ELO_df)"
   ]
  },
  {
   "cell_type": "code",
   "execution_count": null,
   "id": "54c12ec7",
   "metadata": {},
   "outputs": [],
   "source": []
  }
 ],
 "metadata": {
  "kernelspec": {
   "display_name": "Python 3",
   "language": "python",
   "name": "python3"
  },
  "language_info": {
   "codemirror_mode": {
    "name": "ipython",
    "version": 3
   },
   "file_extension": ".py",
   "mimetype": "text/x-python",
   "name": "python",
   "nbconvert_exporter": "python",
   "pygments_lexer": "ipython3",
   "version": "3.8.8"
  }
 },
 "nbformat": 4,
 "nbformat_minor": 5
}
